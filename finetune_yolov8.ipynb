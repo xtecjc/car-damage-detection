{
 "cells": [
  {
   "cell_type": "markdown",
   "id": "0owj4fZHY1Vg",
   "metadata": {
    "id": "0owj4fZHY1Vg"
   },
   "source": [
    "# Setup"
   ]
  },
  {
   "cell_type": "code",
   "execution_count": null,
   "id": "af2uoOH7FIUG",
   "metadata": {
    "id": "af2uoOH7FIUG"
   },
   "outputs": [],
   "source": [
    "# Install libraries\n",
    "\n",
    "!pip install ultralytics"
   ]
  },
  {
   "cell_type": "code",
   "execution_count": null,
   "id": "cbe2807c",
   "metadata": {
    "id": "cbe2807c"
   },
   "outputs": [],
   "source": [
    "# Import libraries\n",
    "\n",
    "import os\n",
    "from ultralytics import YOLO"
   ]
  },
  {
   "cell_type": "markdown",
   "id": "g54Ek7MpbFjj",
   "metadata": {
    "id": "g54Ek7MpbFjj"
   },
   "source": [
    "# Model"
   ]
  },
  {
   "cell_type": "code",
   "execution_count": null,
   "id": "7eb99a95",
   "metadata": {
    "id": "7eb99a95"
   },
   "outputs": [],
   "source": [
    "# Read model architecture\n",
    "\n",
    "# model = YOLO('yolov8x.yaml')  # build a new model from YAML\n",
    "model = YOLO('yolov8x.pt')  # load a pretrained model (recommended for training)\n",
    "\n",
    "# model = YOLO('yolov8x.yaml').load('yolov8x.pt')  # build from YAML and transfer weights"
   ]
  },
  {
   "cell_type": "code",
   "execution_count": null,
   "id": "10374aab",
   "metadata": {
    "colab": {
     "base_uri": "https://localhost:8080/",
     "height": 1000
    },
    "id": "10374aab",
    "outputId": "e83f4716-61a9-4359-dcc3-f8bf857d184e"
   },
   "outputs": [],
   "source": [
    "# Train\n",
    "\n",
    "results = model.train(data = 'dataset.yaml', epochs = 200, imgsz = 640)"
   ]
  }
 ],
 "metadata": {
  "accelerator": "GPU",
  "colab": {
   "machine_shape": "hm",
   "provenance": []
  },
  "kernelspec": {
   "display_name": "Python 3",
   "language": "python",
   "name": "python3"
  },
  "language_info": {
   "codemirror_mode": {
    "name": "ipython",
    "version": 3
   },
   "file_extension": ".py",
   "mimetype": "text/x-python",
   "name": "python",
   "nbconvert_exporter": "python",
   "pygments_lexer": "ipython3",
   "version": "3.8.8"
  },
  "toc": {
   "base_numbering": 1,
   "nav_menu": {},
   "number_sections": true,
   "sideBar": true,
   "skip_h1_title": false,
   "title_cell": "Table of Contents",
   "title_sidebar": "Contents",
   "toc_cell": false,
   "toc_position": {},
   "toc_section_display": true,
   "toc_window_display": false
  }
 },
 "nbformat": 4,
 "nbformat_minor": 5
}
